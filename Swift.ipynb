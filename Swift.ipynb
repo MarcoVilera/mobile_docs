{
 "cells": [
  {
   "cell_type": "code",
   "execution_count": null,
   "id": "d4290331-2b37-46a6-88ec-2e4abafe7180",
   "metadata": {},
   "outputs": [],
   "source": [
    "// Swift \"Hello, World!\" Program\n",
    "\n",
    "print(\"Hello, World!\") "
   ]
  },
  {
   "cell_type": "code",
   "execution_count": null,
   "id": "6b70e1ea-e5b6-4242-bdfc-5e6bc0b90192",
   "metadata": {},
   "outputs": [],
   "source": []
  }
 ],
 "metadata": {
  "kernelspec": {
   "display_name": "Swift",
   "language": "",
   "name": "swift"
  },
  "language_info": {
   "name": ""
  }
 },
 "nbformat": 4,
 "nbformat_minor": 5
}
