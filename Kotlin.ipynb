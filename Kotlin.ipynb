{
 "cells": [
  {
   "cell_type": "markdown",
   "id": "a6eeae6f-7ec6-4f6a-bf25-dc0b0daee68a",
   "metadata": {},
   "source": [
    "# Kotlin\n",
    "## Integrantes:\n",
    "- Marco Vilera 29779102\n",
    "- Gabriel Sandoval 30866625\n",
    "- Yull Rodriguez 30710183\n",
    "- Eladio Tortolero 19990844\n",
    "- Manuel Arenas 30272773"
   ]
  },
  {
   "cell_type": "markdown",
   "id": "18a2c7a5-8584-493d-8642-30134d4912e5",
   "metadata": {},
   "source": [
    "Kotlin es un lenguaje de programación moderno, estático y multiparadigma, desarrollado por JetBrains en 2011. Diseñado para ser completamente interoperable con Java, se ha convertido en el lenguaje preferido para el desarrollo de aplicaciones Android, siendo adoptado oficialmente por Google en 2017. Combina la elegancia de la sintaxis concisa con características de seguridad, como el manejo de nulos, y soporta programación orientada a objetos, funcional y procedural."
   ]
  },
  {
   "cell_type": "markdown",
   "id": "68d30b17-7390-4b37-9367-ff8eae9ba1db",
   "metadata": {},
   "source": [
    "## Caracteristicas "
   ]
  },
  {
   "cell_type": "markdown",
   "id": "ad62d968-24ef-4ff7-b091-3086e70a595a",
   "metadata": {},
   "source": [
    "- Interoperabilidad con Java: Permite usar bibliotecas y frameworks de Java directamente.\n",
    "\n",
    "- Null Safety: Reduce errores de NullPointerException mediante tipos anulables (?) y no anulables.\n",
    "\n",
    "- Sintaxis Concisa: Menos código redundante comparado con Java (ej: data classes, lambdas).\n",
    "\n",
    "- Corrutinas: Soporte nativo para programación asíncrona y concurrente.\n",
    "\n",
    "- Extensibilidad: Funciones de extensión para añadir métodos a clases existentes.\n",
    "\n"
   ]
  },
  {
   "cell_type": "markdown",
   "id": "5862c2ad-139f-4495-be7e-25ef2a1c62b2",
   "metadata": {},
   "source": [
    "## ¿Cómo instalar Kotlin?"
   ]
  },
  {
   "cell_type": "markdown",
   "id": "f88650cd-cac3-4c27-a7ef-1604a5eab76c",
   "metadata": {},
   "source": [
    "Para poder utilizar Kotlin, tenemos las siguientes opciones:\n",
    "\n",
    "- Descargar el IDE IntelliJ, ya que viene por defecto con el.\n",
    "- Descargar el IDE Android Studio, ya que viene por defecto con el."
   ]
  },
  {
   "cell_type": "markdown",
   "id": "c15a62e1-7305-4a4d-b0c2-a9112bfd23b7",
   "metadata": {},
   "source": [
    "## Estructura del Código"
   ]
  },
  {
   "cell_type": "markdown",
   "id": "eca89e0a-78b3-421f-9861-ae08c45707a5",
   "metadata": {},
   "source": [
    "Toda aplicación de Dart está envuelta por una función main(), donde comienza la ejecución."
   ]
  },
  {
   "cell_type": "code",
   "execution_count": 2,
   "id": "da36a134-9040-4ae3-ba29-69b4b1cb3d4a",
   "metadata": {},
   "outputs": [],
   "source": [
    "fun main() {  // Función main que envuelve toda la ejecución de la función\n",
    "    println(\"Hello, World!\")  \n",
    "} "
   ]
  },
  {
   "cell_type": "markdown",
   "id": "ecdd2b59-792a-4ce1-bb9a-63dbb8ffc319",
   "metadata": {},
   "source": [
    "## Sintaxis \n",
    "En Kotlin existen 3 opciones de declarar variables:"
   ]
  },
  {
   "cell_type": "markdown",
   "id": "787d2781-4ff3-455f-ac69-33e0eecd73e1",
   "metadata": {},
   "source": [
    "- val: Variable de solo lectura (inmutable).\n",
    "\n",
    "- var: Variable mutable.\n",
    "\n",
    "- val o var nombre: String : Declarando directamente el tipo de variable"
   ]
  },
  {
   "cell_type": "code",
   "execution_count": 5,
   "id": "5bff8aed-2945-472a-828c-cc240d27c899",
   "metadata": {},
   "outputs": [],
   "source": [
    "val nombre: String = \"Luis\" // Tipo explícito  \n",
    "var edad = 30              // Inferencia de tipo (Int)  "
   ]
  },
  {
   "cell_type": "markdown",
   "id": "45258f09-c715-4d74-8750-3f018d7e9299",
   "metadata": {},
   "source": [
    "Además, Kotlin posee una caracteristica [Null safety](https://kotlinlang.org/docs/null-safety.html) que evita errores de ejecución al intentar utilizar una variable que fue declarada, en caso de que sea necesario se puede sobreescribir este comportamiento"
   ]
  },
  {
   "cell_type": "code",
   "execution_count": 6,
   "id": "ce581386-94be-46ae-9e9f-07920723f777",
   "metadata": {
    "scrolled": true
   },
   "outputs": [
    {
     "additionalInfo": {
      "colEnd": 16,
      "colStart": 1,
      "lineEnd": 1,
      "lineStart": 1,
      "message": "Property must be initialized or be abstract",
      "path": "Line_5.jupyter.kts"
     },
     "ename": "org.jetbrains.kotlinx.jupyter.exceptions.ReplCompilerException",
     "evalue": "at Cell In[6], line 1, column 1: Property must be initialized or be abstract\nat Cell In[6], line 6, column 17: Variable 'numero_util' must be initialized",
     "execution_count": 6,
     "output_type": "error",
     "status": "error",
     "traceback": [
      "org.jetbrains.kotlinx.jupyter.exceptions.ReplCompilerException: at Cell In[6], line 1, column 1: Property must be initialized or be abstract",
      "at Cell In[6], line 6, column 17: Variable 'numero_util' must be initialized",
      "\tat org.jetbrains.kotlinx.jupyter.repl.impl.JupyterCompilerImpl.compileSync(JupyterCompilerImpl.kt:208)",
      "\tat org.jetbrains.kotlinx.jupyter.repl.impl.InternalEvaluatorImpl.eval(InternalEvaluatorImpl.kt:126)",
      "\tat org.jetbrains.kotlinx.jupyter.repl.impl.CellExecutorImpl$execute$1$result$1.invoke(CellExecutorImpl.kt:80)",
      "\tat org.jetbrains.kotlinx.jupyter.repl.impl.CellExecutorImpl$execute$1$result$1.invoke(CellExecutorImpl.kt:78)",
      "\tat org.jetbrains.kotlinx.jupyter.repl.impl.ReplForJupyterImpl.withHost(ReplForJupyterImpl.kt:774)",
      "\tat org.jetbrains.kotlinx.jupyter.repl.impl.CellExecutorImpl.execute-L4Nmkdk(CellExecutorImpl.kt:78)",
      "\tat org.jetbrains.kotlinx.jupyter.repl.execution.CellExecutor$DefaultImpls.execute-L4Nmkdk$default(CellExecutor.kt:13)",
      "\tat org.jetbrains.kotlinx.jupyter.repl.impl.ReplForJupyterImpl.evaluateUserCode-wNURfNM(ReplForJupyterImpl.kt:596)",
      "\tat org.jetbrains.kotlinx.jupyter.repl.impl.ReplForJupyterImpl.evalExImpl(ReplForJupyterImpl.kt:454)",
      "\tat org.jetbrains.kotlinx.jupyter.repl.impl.ReplForJupyterImpl.access$evalExImpl(ReplForJupyterImpl.kt:141)",
      "\tat org.jetbrains.kotlinx.jupyter.repl.impl.ReplForJupyterImpl$evalEx$1.invoke(ReplForJupyterImpl.kt:447)",
      "\tat org.jetbrains.kotlinx.jupyter.repl.impl.ReplForJupyterImpl$evalEx$1.invoke(ReplForJupyterImpl.kt:446)",
      "\tat org.jetbrains.kotlinx.jupyter.repl.impl.ReplForJupyterImpl.withEvalContext(ReplForJupyterImpl.kt:427)",
      "\tat org.jetbrains.kotlinx.jupyter.repl.impl.ReplForJupyterImpl.evalEx(ReplForJupyterImpl.kt:446)",
      "\tat org.jetbrains.kotlinx.jupyter.messaging.IdeCompatibleMessageRequestProcessor$processExecuteRequest$1$response$1$1.invoke(IdeCompatibleMessageRequestProcessor.kt:171)",
      "\tat org.jetbrains.kotlinx.jupyter.messaging.IdeCompatibleMessageRequestProcessor$processExecuteRequest$1$response$1$1.invoke(IdeCompatibleMessageRequestProcessor.kt:170)",
      "\tat org.jetbrains.kotlinx.jupyter.streams.BlockingSubstitutionEngine.withDataSubstitution(SubstitutionEngine.kt:70)",
      "\tat org.jetbrains.kotlinx.jupyter.streams.StreamSubstitutionManager.withSubstitutedStreams(StreamSubstitutionManager.kt:118)",
      "\tat org.jetbrains.kotlinx.jupyter.messaging.IdeCompatibleMessageRequestProcessor.withForkedIn(IdeCompatibleMessageRequestProcessor.kt:347)",
      "\tat org.jetbrains.kotlinx.jupyter.messaging.IdeCompatibleMessageRequestProcessor.access$withForkedIn(IdeCompatibleMessageRequestProcessor.kt:67)",
      "\tat org.jetbrains.kotlinx.jupyter.messaging.IdeCompatibleMessageRequestProcessor$evalWithIO$1$1.invoke(IdeCompatibleMessageRequestProcessor.kt:361)",
      "\tat org.jetbrains.kotlinx.jupyter.streams.BlockingSubstitutionEngine.withDataSubstitution(SubstitutionEngine.kt:70)",
      "\tat org.jetbrains.kotlinx.jupyter.streams.StreamSubstitutionManager.withSubstitutedStreams(StreamSubstitutionManager.kt:118)",
      "\tat org.jetbrains.kotlinx.jupyter.messaging.IdeCompatibleMessageRequestProcessor.withForkedErr(IdeCompatibleMessageRequestProcessor.kt:336)",
      "\tat org.jetbrains.kotlinx.jupyter.messaging.IdeCompatibleMessageRequestProcessor.access$withForkedErr(IdeCompatibleMessageRequestProcessor.kt:67)",
      "\tat org.jetbrains.kotlinx.jupyter.messaging.IdeCompatibleMessageRequestProcessor$evalWithIO$1.invoke(IdeCompatibleMessageRequestProcessor.kt:360)",
      "\tat org.jetbrains.kotlinx.jupyter.streams.BlockingSubstitutionEngine.withDataSubstitution(SubstitutionEngine.kt:70)",
      "\tat org.jetbrains.kotlinx.jupyter.streams.StreamSubstitutionManager.withSubstitutedStreams(StreamSubstitutionManager.kt:118)",
      "\tat org.jetbrains.kotlinx.jupyter.messaging.IdeCompatibleMessageRequestProcessor.withForkedOut(IdeCompatibleMessageRequestProcessor.kt:328)",
      "\tat org.jetbrains.kotlinx.jupyter.messaging.IdeCompatibleMessageRequestProcessor.evalWithIO(IdeCompatibleMessageRequestProcessor.kt:359)",
      "\tat org.jetbrains.kotlinx.jupyter.messaging.IdeCompatibleMessageRequestProcessor$processExecuteRequest$1$response$1.invoke(IdeCompatibleMessageRequestProcessor.kt:170)",
      "\tat org.jetbrains.kotlinx.jupyter.messaging.IdeCompatibleMessageRequestProcessor$processExecuteRequest$1$response$1.invoke(IdeCompatibleMessageRequestProcessor.kt:169)",
      "\tat org.jetbrains.kotlinx.jupyter.execution.JupyterExecutorImpl$Task.execute(JupyterExecutorImpl.kt:41)",
      "\tat org.jetbrains.kotlinx.jupyter.execution.JupyterExecutorImpl$executorThread$1.invoke(JupyterExecutorImpl.kt:81)",
      "\tat org.jetbrains.kotlinx.jupyter.execution.JupyterExecutorImpl$executorThread$1.invoke(JupyterExecutorImpl.kt:79)",
      "\tat kotlin.concurrent.ThreadsKt$thread$thread$1.run(Thread.kt:30)",
      ""
     ]
    }
   ],
   "source": [
    "var numero_util; // Null safety activado\n",
    "\n",
    "var otro_numero_util = 100;\n",
    "\n",
    "//Este código dará un error en tiempo de edición evitando que pase a ejecución\n",
    "var resultado = numero_util + otro_numero_util;"
   ]
  },
  {
   "cell_type": "markdown",
   "id": "ce1deb06-042f-48d1-9503-15f68017464a",
   "metadata": {},
   "source": [
    "### Operadores\n",
    "En dart existen los siguientes tipos de operadores:"
   ]
  },
  {
   "cell_type": "markdown",
   "id": "874c1cb1-6b8b-4913-9654-13b7377619f3",
   "metadata": {},
   "source": [
    "  - `+` → Suma dos valores\n",
    "  - `-` → Resta dos valores\n",
    "  - `-expresión` → Invierte el signo de una expresión (negación)\n",
    "  - `*` → Multiplicación\n",
    "  - `/` → División. Si ambos numeros son int, el resultado será entero, si no, será decimal\n",
    "  - `%` → Devuelve el resto de una división"
   ]
  },
  {
   "cell_type": "markdown",
   "id": "b0648bb6-fecc-4345-8cab-4c43f136534f",
   "metadata": {},
   "source": [
    "Tambien estos operadores se pueden usar como incrementos o decrementos\n",
    "- `++var` - Operador de pre-incremento:  \n",
    "  `var = var + 1`, resultado retornado = **nuevo valor**  \n",
    "- `var++` - Operador de post-incremento:  \n",
    "  `var = var + 1`, resultado retornado = **valor original**  \n",
    "- `--var` - Operador de pre-decremento:  \n",
    "  `var = var - 1`, resultado retornado = **nuevo valor**  \n",
    "- `var--` - Operador de post-decremento:  \n",
    "  `var = var - 1`, resultado retornado = **valor original**  "
   ]
  },
  {
   "cell_type": "markdown",
   "id": "d97ac315-e4c1-4326-9ef1-3e8f6941e353",
   "metadata": {},
   "source": [
    "### Tipos de datos\n",
    "- **Números**:\n",
    "  - `Int` → Enteros (ej: `-5`, `0`, `100`).\n",
    "  - `Long` → Enteros largos (ej: `123L`).\n",
    "  - `Double` → Decimales de doble precisión (ej: `3.14`).\n",
    "  - `Float` → Decimales de simple precisión (ej: `3.14f`).\n",
    "  - `Short`/`Byte` → Enteros pequeños (usados en casos específicos).\n",
    "\n",
    "- **Booleanos**:\n",
    "  - `Boolean` → `true` o `false`.\n",
    "\n",
    "- **Caracteres**:\n",
    "  - `Char` → Un único carácter (ej: `'A'`).\n",
    "\n",
    "- **Cadenas**:\n",
    "  - `String` → Cadena de texto (ej: `\"Hola Kotlin\"`).\n",
    "    - Soporta interpolación: `\"El valor es $variable\"`.\n",
    "    - Multilínea: \n",
    "      ```kotlin\n",
    "      val texto = \"\"\"\n",
    "          Línea 1\n",
    "          Línea 2\n",
    "      \"\"\".trimIndent()\n",
    "      ```\n",
    "\n",
    "- **Arrays**:\n",
    "  - `Array<T>` → Arreglo de elementos (ej: `arrayOf(1, 2, 3)`).\n",
    "  - Tipos específicos: `IntArray`, `DoubleArray`, etc.\n",
    "\n"
   ]
  },
  {
   "cell_type": "markdown",
   "id": "be7fa189-f060-46a6-9fb1-261149d7f799",
   "metadata": {},
   "source": [
    "### Tipos de Colecciones\n",
    "- **Listas**:\n",
    "  - `List<T>` → Colección ordenada (ej: `listOf(1, 2, 3)`).\n",
    "    - Inmutable por defecto (usar `mutableListOf` para modificar).\n",
    "\n",
    "- **Conjuntos**:\n",
    "  - `Set<T>` → Elementos únicos (ej: `setOf(\"a\", \"b\")`).\n",
    "\n",
    "- **Mapas**:\n",
    "  - `Map<K, V>` → Pares clave-valor (ej: `mapOf(1 to \"Uno\", 2 to \"Dos\")`).\n",
    "\n"
   ]
  },
  {
   "cell_type": "markdown",
   "id": "65efaa2d-dab4-4d29-8b5d-1e100acfc0d7",
   "metadata": {},
   "source": [
    "### Condicionales\n",
    "Al igual que el resto de lenguajes, Kotlin tambien posee estructuras condicionales para la ejecución del codigo. "
   ]
  },
  {
   "cell_type": "code",
   "execution_count": 12,
   "id": "aa5854c7-36a6-48e4-bd08-d7cbc23fbd3d",
   "metadata": {},
   "outputs": [
    {
     "name": "stdout",
     "output_type": "stream",
     "text": [
      "Aprobado\n"
     ]
    }
   ],
   "source": [
    "val puntuacion = 85  \n",
    "\n",
    "if (puntuacion >= 90) {  //  primera condición\n",
    "    println(\"Excelente\")  // si es cierta, se ejecuta esto\n",
    "} else if (puntuacion >= 60) {  \n",
    "    // segunda condición, si la primera no fue correcta, irá evaluando por orden descendente. Puede haber tantos else if haga falta\n",
    "    println(\"Aprobado\")  \n",
    "} else {  // En caso de que ninguna condición sea cierta, se ejecutará esto\n",
    "    println(\"Reprobado\")  \n",
    "}  \n",
    "\n"
   ]
  },
  {
   "cell_type": "markdown",
   "id": "c46fb198-1a75-43a6-92c0-1d2e550c3262",
   "metadata": {},
   "source": [
    "### Bucles"
   ]
  },
  {
   "cell_type": "markdown",
   "id": "f0859dd1-4ead-455f-a091-1cd50db7dfd8",
   "metadata": {},
   "source": [
    "En Dart, existen 3 tipos de bucles, iremos repasando cada uno."
   ]
  },
  {
   "cell_type": "markdown",
   "id": "e54d69a4-6c25-4891-bfa9-a9438c2ea53c",
   "metadata": {},
   "source": [
    "#### Bucle For"
   ]
  },
  {
   "cell_type": "code",
   "execution_count": 14,
   "id": "5684f4ef-2d65-4e33-8b91-d9058d72ed31",
   "metadata": {},
   "outputs": [
    {
     "name": "stdout",
     "output_type": "stream",
     "text": [
      "1 2 3 4 5 "
     ]
    }
   ],
   "source": [
    "for (i in 1..5) { // Ejecutar un bloque de código un número determinado de veces.\n",
    "    print(\"$i \")    // Salida: 1 2 3 4 5  \n",
    "}  \n"
   ]
  },
  {
   "cell_type": "markdown",
   "id": "b2cdbe69-ecc7-4f5e-b36e-56f3737b249c",
   "metadata": {},
   "source": [
    "#### Bucle While"
   ]
  },
  {
   "cell_type": "code",
   "execution_count": 15,
   "id": "c67087c8-9d78-41fb-bc1f-7065ad7368db",
   "metadata": {},
   "outputs": [
    {
     "name": "stdout",
     "output_type": "stream",
     "text": [
      "Contador: 3\n",
      "Contador: 2\n",
      "Contador: 1\n"
     ]
    }
   ],
   "source": [
    "var contador = 3  \n",
    "while (contador > 0) {  // Ejecutar un bloque mientras una condición sea true (primero verifica, luego ejecuta).\n",
    "    // Si la condición inicial es false, el bloque nunca se ejecuta.\n",
    "    println(\"Contador: $contador\")  \n",
    "    contador--  \n",
    "}  "
   ]
  },
  {
   "cell_type": "markdown",
   "id": "0e7c10de-4211-4886-9f20-9b093ee7643c",
   "metadata": {},
   "source": [
    "#### Bucle Do-while"
   ]
  },
  {
   "cell_type": "code",
   "execution_count": 16,
   "id": "b396cdf8-dbf9-47e7-8ed2-8a113a51fbb3",
   "metadata": {},
   "outputs": [
    {
     "name": "stdout",
     "output_type": "stream",
     "text": [
      "Este bloque se ejecuta al menos una vez\n"
     ]
    }
   ],
   "source": [
    "// Ejecutar un bloque al menos una vez, y repetir mientras la condición sea true (primero ejecuta, luego verifica).\n",
    "do {  // Esta parte siempre se ejecutará a pesar de que la condición sea false\n",
    "    println(\"Este bloque se ejecuta al menos una vez\")  \n",
    "} while (false)  "
   ]
  },
  {
   "cell_type": "markdown",
   "id": "dd429ea4-7440-449a-9dba-a2a249389581",
   "metadata": {},
   "source": [
    "### Funciones"
   ]
  },
  {
   "cell_type": "markdown",
   "id": "6afa1098-0354-45ca-bd9f-76d53134ffc3",
   "metadata": {},
   "source": [
    "Una función es un bloque de código reutilizable que realiza una tarea específica. Pudiendo retornar algo o no."
   ]
  },
  {
   "cell_type": "code",
   "execution_count": 18,
   "id": "96e1a67c-f6d2-484d-9d04-c72cbbb1d65a",
   "metadata": {},
   "outputs": [
    {
     "name": "stdout",
     "output_type": "stream",
     "text": [
      "4\n",
      "8\n",
      "Hola, Invitado\n"
     ]
    }
   ],
   "source": [
    "//estructura: nombre de la función, argumentos que recibe(especificando su tipo)\n",
    "// Función con retorno  \n",
    "fun sumar(a: Int, b: Int): Int {  \n",
    "    return a + b  \n",
    "}  \n",
    "\n",
    "// Función de una línea  \n",
    "fun multiplicar(a: Int, b: Int) = a * b  \n",
    "\n",
    "// Parámetros con valores por defecto  \n",
    "fun saludar(nombre: String = \"Invitado\") = println(\"Hola, $nombre\")  \n",
    "\n",
    "println(sumar(2,2))  \n",
    "println(multiplicar(2,4))  \n",
    "saludar()"
   ]
  },
  {
   "cell_type": "markdown",
   "id": "c632e3d3-eccf-449d-ad21-f5157923d298",
   "metadata": {},
   "source": [
    "### Clases y objetos"
   ]
  },
  {
   "cell_type": "markdown",
   "id": "e3b537ad-76fb-49dd-a1f6-8e0cfe8029a4",
   "metadata": {},
   "source": [
    "Una clase es una plantilla para crear objetos que encapsula:\n",
    "- Atributos: Variables que representan características (ej: nombre, edad).\n",
    "- Métodos: Funciones que definen comportamientos (ej: caminar(), hablar()).\n",
    "- Constructores: Métodos especiales para inicializar objetos.\n",
    "  \n",
    "Mientras que los objetos no son mas que instancias o individuos de esa clase."
   ]
  },
  {
   "cell_type": "code",
   "execution_count": 19,
   "id": "072f0ef4-8fd5-4827-adc3-59dce2160627",
   "metadata": {},
   "outputs": [
    {
     "name": "stdout",
     "output_type": "stream",
     "text": [
      "Soy Ana y tengo 30 años\n"
     ]
    }
   ],
   "source": [
    "// Definición de clase  \n",
    "class Persona(val nombre: String, var edad: Int) {  \n",
    "\n",
    "    // Método  \n",
    "    fun presentarse() {  \n",
    "        println(\"Soy $nombre y tengo $edad años\")  \n",
    "    }  \n",
    "}  \n",
    "\n",
    "\n",
    "\n",
    "// Uso  \n",
    "val persona1 = Persona(\"Ana\", 30)  \n",
    "persona1.presentarse()  "
   ]
  },
  {
   "cell_type": "code",
   "execution_count": null,
   "id": "32c296c0-1f9e-472c-bf86-2b2b8595885f",
   "metadata": {},
   "outputs": [],
   "source": []
  }
 ],
 "metadata": {
  "kernelspec": {
   "display_name": "Kotlin",
   "language": "kotlin",
   "name": "kotlin"
  },
  "language_info": {
   "codemirror_mode": "text/x-kotlin",
   "file_extension": ".kt",
   "mimetype": "text/x-kotlin",
   "name": "kotlin",
   "nbconvert_exporter": "",
   "pygments_lexer": "kotlin",
   "version": "1.9.23"
  }
 },
 "nbformat": 4,
 "nbformat_minor": 5
}
