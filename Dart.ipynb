{
 "cells": [
  {
   "cell_type": "markdown",
   "id": "e93489e8-d651-462f-bdb8-4fe9a94ef286",
   "metadata": {},
   "source": [
    "# Dart\n",
    "## Integrantes:\n",
    "- Marco Vilera 29779102\n",
    "- Gabriel Sandoval 30866625\n",
    "- Yull Rodriguez 30710183\n",
    "- Eladio Tortolero 19990844\n",
    "- Manuel Arenas 30272773"
   ]
  },
  {
   "cell_type": "markdown",
   "id": "e4006bed-ad36-465b-acda-c0110d960e4f",
   "metadata": {},
   "source": [
    "Dart es un lenguaje de programación moderno, desarrollado por Google en 2011, que combina el poder de la programación orientada a objetos con la facilidad y eficiencia de los lenguajes de programación basados en scripts. Fue desarrollado con la visión de ofrecer una alternativa más estructurada y eficiente para el desarrollo web, en comparación con JavaScript. Finalmente encontrando su nicho junto a Flutter. Un revolucionario framework de desarrollo de UI creado también por Google. "
   ]
  },
  {
   "cell_type": "markdown",
   "id": "bd9afd7f-e9d6-44de-b66e-4abffd5b7802",
   "metadata": {},
   "source": [
    "Dart fue creado para resultar intuitivo y accesible a los desarrolladores, sin importar su nivel de experiencia o lenguajes previos. Su estructura limpia y sencilla favorece tanto el aprendizaje como la lectura del código. Aunque surgió inicialmente orientado al desarrollo web, hoy destaca como un lenguaje flexible, capaz de adaptarse a diversos entornos y desafíos, abarcando desde apps móviles hasta software para computadoras.\n",
    "\n",
    "Un elemento clave de Dart es su entorno de ejecución (VM), que asegura un rendimiento ágil y optimiza el flujo de trabajo mediante herramientas como el \"Hot Reload\". Esta función permite previsualizar modificaciones al instante sin necesidad de reiniciar la aplicación por completo. "
   ]
  },
  {
   "cell_type": "markdown",
   "id": "37ae177c-43ed-4073-acfc-d9cab2e3e9bb",
   "metadata": {},
   "source": [
    "### ¿Como instalar Dart?"
   ]
  },
  {
   "cell_type": "markdown",
   "id": "51e1af1c-3251-4a06-8fea-9212c9f2400b",
   "metadata": {},
   "source": [
    "Para poder utilizar Dart, debemos instalar su SDK, De las cuales tendremos 3 opciones para hacerlo.\n"
   ]
  },
  {
   "cell_type": "markdown",
   "id": "564987e1-c36a-44e8-b25c-757ac724f7bc",
   "metadata": {},
   "source": [
    "- Mediante un gestor de paquetes\n",
    "- Utilizando una imagen de Docker\n",
    "- Instalando Flutter"
   ]
  },
  {
   "cell_type": "markdown",
   "id": "9c39c69c-6065-42a9-a997-7e71912bf6d1",
   "metadata": {},
   "source": [
    "## Estructura del Código"
   ]
  },
  {
   "cell_type": "markdown",
   "id": "b0fe7a7a-2435-4521-8242-424e469dc7b4",
   "metadata": {},
   "source": [
    "Toda aplicación de Dart está envuelta por una función main(), donde comienza la ejecución. Las funciones que no devuelven explícitamente un valor tienen el tipo de retorno void. En este ejemplo, tenemos un código que retorna algo en la consola utilizando la función print().\n",
    "Además de que toda sentencia debe terminar con ;"
   ]
  },
  {
   "cell_type": "code",
   "execution_count": null,
   "id": "c5d1bd33-5306-43ac-be46-51ac7b38e5a2",
   "metadata": {
    "scrolled": true
   },
   "outputs": [],
   "source": [
    "void main() { // Función main que envuelve toda la ejecución de la función\n",
    "  print('Hello, World!');\n",
    "}"
   ]
  },
  {
   "cell_type": "markdown",
   "id": "aef9e950-3a4c-4177-a1f5-c6f3a8ffffda",
   "metadata": {},
   "source": [
    "## Sintaxis \n",
    "En dart existen 2 opciones de declarar variables:"
   ]
  },
  {
   "cell_type": "markdown",
   "id": "ca4051d0-201f-4541-bd09-485875983c68",
   "metadata": {},
   "source": [
    "- Utilizando la palabra reservada **var**, a pesar de no ser recomendado ya que Dart es un lenguaje de tipado fuerta\n",
    "- Declarar el tipo que es la variable (String,int, Object, etc.) seguido de su nombre."
   ]
  },
  {
   "cell_type": "markdown",
   "id": "8790e4f0-b9ec-4c4b-8bd3-9482a97dc5d4",
   "metadata": {},
   "source": [
    "### Ejemplo "
   ]
  },
  {
   "cell_type": "code",
   "execution_count": null,
   "id": "ae3653ab-1c11-445c-957e-abece02495d2",
   "metadata": {},
   "outputs": [],
   "source": [
    "var nombre = 'Vicky'; // Dart inferirá durante la ejecución que la variable es String\n",
    "double pi = 3.14; // Dart ya conoce el tipo de dato de la variable"
   ]
  },
  {
   "cell_type": "markdown",
   "id": "84aad809-3d22-4993-b841-79afe247cb0f",
   "metadata": {},
   "source": [
    "Además, Dart posee una caracteristica [Null safety](https://dart.dev/language/variables#null-safety) que evita errores de ejecución al intentar utilizar una variable que fue declarada, en caso de que sea necesario se puede sobreescribir este comportamiento"
   ]
  },
  {
   "cell_type": "code",
   "execution_count": null,
   "id": "153b012e-122f-4f29-80a2-4f1eb1ee46d9",
   "metadata": {},
   "outputs": [],
   "source": [
    "int numero_util; // Null safety activado\n",
    "\n",
    "int otro_numero_util = 100;\n",
    "\n",
    "//Este código dará un error en tiempo de edición evitando que pase a ejecución\n",
    "int resultado = numero_util + otro_numero_util;"
   ]
  },
  {
   "cell_type": "code",
   "execution_count": null,
   "id": "29bb1856-36f3-47a3-87a4-eb6cdc9fd9e7",
   "metadata": {},
   "outputs": [],
   "source": [
    "String? texto_util; // El ? establece que la variable puede ser null o String, esto hace que se salte el Null Safety\n",
    "print(texto_util);\n",
    "\n",
    "texto_util = 'Este texto es importante';\n",
    "print(texto_util);\n"
   ]
  },
  {
   "cell_type": "markdown",
   "id": "28fce5e7-7347-4917-b2b2-45f10f18a9ce",
   "metadata": {},
   "source": [
    "### Operadores\n",
    "En dart existen los siguientes tipos de operadores:"
   ]
  },
  {
   "cell_type": "markdown",
   "id": "278aa0fb-b376-423b-b996-e064df9d13f8",
   "metadata": {},
   "source": [
    "  - `+` → Suma dos valores\n",
    "  - `-` → Resta dos valores\n",
    "  - `-expresión` → Invierte el signo de una expresión (negación)\n",
    "  - `*` → Multiplicación\n",
    "  - `/` → División con resultado decimal\n",
    "  - `~/` → División entera (descarta la parte decimal)\n",
    "  - `%` → Devuelve el resto de una división"
   ]
  },
  {
   "cell_type": "markdown",
   "id": "29b1d023-f052-43e9-bcef-01bd4ea1190f",
   "metadata": {},
   "source": [
    "Tambien estos operadores se pueden usar como incrementos o decrementos\n",
    "- `++var` - Operador de pre-incremento:  \n",
    "  `var = var + 1`, resultado retornado = **nuevo valor**  \n",
    "- `var++` - Operador de post-incremento:  \n",
    "  `var = var + 1`, resultado retornado = **valor original**  \n",
    "- `--var` - Operador de pre-decremento:  \n",
    "  `var = var - 1`, resultado retornado = **nuevo valor**  \n",
    "- `var--` - Operador de post-decremento:  \n",
    "  `var = var - 1`, resultado retornado = **valor original**  "
   ]
  },
  {
   "cell_type": "markdown",
   "id": "77e8e5c0-396c-4e73-a560-9a99f9d8fa99",
   "metadata": {},
   "source": [
    "### Tipos de datos\n",
    "- **Tipos de datos básicos**:\n",
    "  - `int` → Enteros (ej: `-5`, `0`, `100`)\n",
    "  - `double` → Números decimales (ej: `3.14`, `-0.5`)\n",
    "  - `num` → Padre de `int` y `double` (acepta ambos)\n",
    "  - `String` → Cadenas de texto (ej: `\"Hola\"`, `'Dart'`)\n",
    "  - `bool` → Valores booleanos (`true` o `false`)\n",
    "\n",
    "- **Tipos de colecciones**:\n",
    "  - `List` → Listas ordenadas (ej: `[1, 2, 3]`)\n",
    "  - `Set` → Colección de elementos únicos (ej: `{1, 2, 3}`)\n",
    "  - `Map` → Pares clave-valor (ej: `{'nombre': 'Ana', 'edad': 30}`)\n",
    "\n",
    "- **Tipos especiales**:\n",
    "  - `dynamic` → Tipo dinámico (puede cambiar en tiempo de ejecución)\n",
    "  - `var` → Inferencia de tipo (se define al asignar el valor)\n",
    "  - `void` → Indica que no hay valor de retorno (usado en funciones)\n",
    "  - `Null` → Representa la ausencia de valor (solo valor `null`)"
   ]
  },
  {
   "cell_type": "markdown",
   "id": "25205888-2571-4ffc-82d7-d774230368a2",
   "metadata": {},
   "source": [
    "### Condicionales\n",
    "Al igual que el resto de lenguajes, Dart tambien posee estructuras condicionales para la ejecución del codigo. pero a diferencia del resto de lenguajes, en Dart solamente pueden manejar valores booleanos."
   ]
  },
  {
   "cell_type": "code",
   "execution_count": null,
   "id": "c78fedb7-d6b5-4b86-aacd-4db9223b88a1",
   "metadata": {},
   "outputs": [],
   "source": [
    " bool esMayorDeEdad = true;\n",
    "int temperatura = 25;\n",
    "\n",
    "  if (esMayorDeEdad) { //  primera condición\n",
    "    print(\"Acceso permitido\"); // si es cierta, se ejecuta esto\n",
    "  } \n",
    "  else if (temperatura > 30) {\n",
    "    // segunda condición, si la primera no fue correcta, irá evaluando por orden descendente. Puede haber tantos else if haga falta\n",
    "    print(\"Hace mucho calor\");\n",
    "  } \n",
    "  else { // En caso de que ninguna condición sea cierta, se ejecutará esto\n",
    "    print(\"Condición no cumplida\");\n",
    "  }"
   ]
  },
  {
   "cell_type": "markdown",
   "id": "9c5b8bf8-bd7e-4bb0-afdf-c686cc93720a",
   "metadata": {},
   "source": [
    "### Bucles"
   ]
  },
  {
   "cell_type": "markdown",
   "id": "2f52af9b-5214-42de-8519-2aeb1248e3e6",
   "metadata": {},
   "source": [
    "En Dart, existen 3 tipos de bucles, iremos repasando cada uno."
   ]
  },
  {
   "cell_type": "markdown",
   "id": "06aa6f83-0e45-4db4-ac81-f353ead4f3b1",
   "metadata": {},
   "source": [
    "#### Bucle For"
   ]
  },
  {
   "cell_type": "code",
   "execution_count": null,
   "id": "580e2f3d-9d77-44be-a78c-6e06ade57d4f",
   "metadata": {},
   "outputs": [],
   "source": [
    "for (int i = 1; i <= 5; i++) { // Ejecutar un bloque de código un número determinado de veces.\n",
    "    // int i = 1: Inicialización del contador.\n",
    "    // i <= 5: Condición para seguir ejecutando.\n",
    "    // i++: Paso de incremento.\n",
    "    print(\"Número: $i\");\n",
    "  }"
   ]
  },
  {
   "cell_type": "markdown",
   "id": "4277a602-aa4d-4cfd-a81a-a69fbd8a9840",
   "metadata": {},
   "source": [
    "#### Bucle While"
   ]
  },
  {
   "cell_type": "code",
   "execution_count": null,
   "id": "b10d17e0-7d50-48a3-9607-22c8590baffb",
   "metadata": {},
   "outputs": [],
   "source": [
    "int contador = 5;\n",
    "  \n",
    "  while (contador > 0) { // Ejecutar un bloque mientras una condición sea true (primero verifica, luego ejecuta).\n",
    "    // Si la condición inicial es false, el bloque nunca se ejecuta.\n",
    "    print(\"Cuenta: $contador\");\n",
    "    contador--;\n",
    "  }"
   ]
  },
  {
   "cell_type": "markdown",
   "id": "a8a2d0d7-8f8f-4b08-a301-4302e0bdbe6f",
   "metadata": {},
   "source": [
    "#### Bucle Do-while"
   ]
  },
  {
   "cell_type": "code",
   "execution_count": null,
   "id": "ebc1bc25-d299-422a-b163-fd4d96b56c6e",
   "metadata": {},
   "outputs": [],
   "source": [
    "int intentos = 0;\n",
    "// Ejecutar un bloque al menos una vez, y repetir mientras la condición sea true (primero ejecuta, luego verifica).\n",
    "  do { // Esta parte siempre se ejecutará a pesar de que la condición sea false\n",
    "    print(\"Intento ${intentos + 1}: Ingresa un número mayor a 10\");\n",
    "    // Simulación de entrada incorrecta (valor 5)\n",
    "    intentos++;\n",
    "  } while (intentos < 3); // Se repite hasta 3 intentos\n"
   ]
  },
  {
   "cell_type": "markdown",
   "id": "bb691742-eef6-49cf-86e0-b00ef7cda067",
   "metadata": {},
   "source": [
    "### Funciones"
   ]
  },
  {
   "cell_type": "markdown",
   "id": "1c701950-d40d-49af-b920-a3fc42dcfaef",
   "metadata": {},
   "source": [
    "Una función es un bloque de código reutilizable que realiza una tarea específica. Pudiendo retornar algo o no."
   ]
  },
  {
   "cell_type": "code",
   "execution_count": null,
   "id": "e93e2946-0e5b-4ad4-8084-61fc85b48df9",
   "metadata": {},
   "outputs": [],
   "source": [
    "// Función que suma dos números y retorna un entero\n",
    "//estructura: tipo de valor que va a retornar (int), nombre de la función, argumentos que recibe(especificando su tipo)\n",
    "int sumar(int a, int b) { \n",
    "  return a + b;\n",
    "}\n",
    "print(sumar(2,2));"
   ]
  },
  {
   "cell_type": "markdown",
   "id": "eb8e86e9-b4ce-444a-8185-9e2aa763cee9",
   "metadata": {},
   "source": [
    "### Clases y objetos"
   ]
  },
  {
   "cell_type": "markdown",
   "id": "b566eb44-c80d-4c7d-b9ea-119321d9dd33",
   "metadata": {},
   "source": [
    "Una clase es una plantilla para crear objetos que encapsula:\n",
    "- Atributos: Variables que representan características (ej: nombre, edad).\n",
    "- Métodos: Funciones que definen comportamientos (ej: caminar(), hablar()).\n",
    "- Constructores: Métodos especiales para inicializar objetos.\n",
    "  \n",
    "Mientras que los objetos no son mas que instancias o individuos de esa clase."
   ]
  },
  {
   "cell_type": "code",
   "execution_count": null,
   "id": "c74b297b-40a0-4e29-aa7c-9d80de0c0fc9",
   "metadata": {},
   "outputs": [],
   "source": [
    "class Persona {\n",
    "  // Atributos\n",
    "  String nombre;\n",
    "  int edad;\n",
    "\n",
    "  // Constructor\n",
    "  Persona(this.nombre, this.edad);\n",
    "\n",
    "  // Método\n",
    "  void presentarse() {\n",
    "    print(\"Hola, soy $nombre y tengo $edad años.\");\n",
    "  }\n",
    "}\n",
    "Persona persona1 = Persona(\"Ana\", 30);\n",
    "persona1.presentarse(); // Hola, soy Ana y tengo 30 años.\n"
   ]
  }
 ],
 "metadata": {
  "kernelspec": {
   "display_name": "Dart",
   "language": "",
   "name": "jupyterdartkernel"
  },
  "language_info": {
   "file_extension": "dart",
   "mimetype": "application/dart",
   "name": "dart"
  }
 },
 "nbformat": 4,
 "nbformat_minor": 5
}
